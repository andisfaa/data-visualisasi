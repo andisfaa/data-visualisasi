{
 "cells": [
  {
   "cell_type": "markdown",
   "id": "fd71897e",
   "metadata": {},
   "source": [
    "# <right><div style=\"font-family: Times New Roman; font-size: 30px; border-radius : 10px; background-color: #a4e5efff; color: #000000ff; padding: 12px; line-height: 0.7;\">1. LIST </div></center>\n"
   ]
  },
  {
   "cell_type": "code",
   "execution_count": null,
   "id": "d7a69cad",
   "metadata": {},
   "outputs": [
    {
     "name": "stdout",
     "output_type": "stream",
     "text": [
      "[10, 'Python', 3.14, True]\n"
     ]
    }
   ],
   "source": [
    "# Membuat List\n",
    "my_list = [10, \"Python\", 3.14, True]\n",
    "print(my_list)\n"
   ]
  },
  {
   "cell_type": "code",
   "execution_count": null,
   "id": "e2d3fcb7",
   "metadata": {},
   "outputs": [
    {
     "name": "stdout",
     "output_type": "stream",
     "text": [
      "[10, 'Python', 3.14, True, 'AI']\n"
     ]
    }
   ],
   "source": [
    "# Menambahkan Elemen\n",
    "my_list.append(\"AI\") #fungsi append\n",
    "print(my_list)"
   ]
  },
  {
   "cell_type": "code",
   "execution_count": null,
   "id": "75110295",
   "metadata": {},
   "outputs": [
    {
     "name": "stdout",
     "output_type": "stream",
     "text": [
      "['Python', 3.14, True, 'AI']\n"
     ]
    }
   ],
   "source": [
    "# Menghapus Elemen\n",
    "\n",
    "my_list = [10, 'Python', 3.14, True, 'AI']\n",
    "my_list.remove(10)\n",
    "print(my_list)"
   ]
  },
  {
   "cell_type": "code",
   "execution_count": null,
   "id": "ce6c42e0",
   "metadata": {},
   "outputs": [
    {
     "name": "stdout",
     "output_type": "stream",
     "text": [
      "['Python', 'Machine Learning', True, 'AI']\n"
     ]
    }
   ],
   "source": [
    "# Update Elemen\n",
    "\n",
    "my_list = ['Python', 3.14, True, 'AI']\n",
    "my_list[1] = \"Machine Learning\"\n",
    "\n",
    "print(my_list)"
   ]
  },
  {
   "cell_type": "code",
   "execution_count": null,
   "id": "aa3ee81a",
   "metadata": {},
   "outputs": [
    {
     "name": "stdout",
     "output_type": "stream",
     "text": [
      "Isi list: [10, 'Machine Learning', 3.14, True]\n"
     ]
    }
   ],
   "source": [
    "# Menampilkan List Langsung\n",
    "\n",
    "print(\"Isi list:\", my_list)\n"
   ]
  },
  {
   "cell_type": "markdown",
   "id": "fc0e4fa4",
   "metadata": {},
   "source": [
    "# <right><div style=\"font-family: Times New Roman; font-size: 30px; border-radius : 10px; background-color: #a4e5efff; color: #000000ff; padding: 12px; line-height: 0.7;\">2. ARRAY </div></center>\n"
   ]
  },
  {
   "cell_type": "code",
   "execution_count": 4,
   "id": "7ebea6b3",
   "metadata": {},
   "outputs": [
    {
     "name": "stdout",
     "output_type": "stream",
     "text": [
      "array('i', [1, 2, 3, 4, 5])\n"
     ]
    }
   ],
   "source": [
    "# Membuat array bertipe integer\n",
    "\n",
    "import array as arr\n",
    "my_array = arr.array('i', [1, 2, 3, 4, 5])\n",
    "print(my_array)"
   ]
  },
  {
   "cell_type": "code",
   "execution_count": 6,
   "id": "991d8290",
   "metadata": {},
   "outputs": [
    {
     "name": "stdout",
     "output_type": "stream",
     "text": [
      "array('i', [10, 3, 4, 5, 6])\n"
     ]
    }
   ],
   "source": [
    "# Operasi dasar\n",
    "\n",
    "import array as arr\n",
    "my_array = arr.array('i', [1, 2, 3, 4, 5])\n",
    "my_array.append(6)     # Tambah elemen\n",
    "my_array.remove(2)     # Hapus elemen\n",
    "my_array[0] = 10       # Update elemen\n",
    "print(my_array)"
   ]
  },
  {
   "cell_type": "code",
   "execution_count": 9,
   "id": "76c4e185",
   "metadata": {},
   "outputs": [
    {
     "name": "stdout",
     "output_type": "stream",
     "text": [
      "Isi array: 10 3 4 5 6 "
     ]
    }
   ],
   "source": [
    "# Menampilkan array (butuh loop jika ingin tiap elemen)\n",
    "\n",
    "import array as arr\n",
    "my_array = arr.array('i', [10, 3, 4, 5, 6])\n",
    "\n",
    "print(\"Isi array:\", end=\" \")\n",
    "for x in my_array:\n",
    "    print(x, end=\" \")\n"
   ]
  },
  {
   "cell_type": "markdown",
   "id": "65a554b8",
   "metadata": {},
   "source": [
    "# <right><div style=\"font-family: Times New Roman; font-size: 30px; border-radius : 10px; background-color: #a4e5efff; color: #000000ff; padding: 12px; line-height: 0.7;\">3. PERBEDAAN LIST DAN ARRAY </div></center>\n"
   ]
  },
  {
   "cell_type": "code",
   "execution_count": 1,
   "id": "0951ec8b",
   "metadata": {},
   "outputs": [
    {
     "name": "stdout",
     "output_type": "stream",
     "text": [
      "List: [90, 'Nasi Goreng', 3.1, True, 'Bisnis Digital']\n"
     ]
    }
   ],
   "source": [
    "# --- List ---\n",
    "\n",
    "my_list = [90, \"Nasi Goreng\", 3.1, True]   # campuran tipe data\n",
    "\n",
    "my_list.append(\"Bisnis Digital\")\n",
    "\n",
    "print(\"List:\", my_list)"
   ]
  },
  {
   "cell_type": "code",
   "execution_count": 53,
   "id": "682f5348",
   "metadata": {},
   "outputs": [
    {
     "name": "stdout",
     "output_type": "stream",
     "text": [
      "Array (module array): [100, 200, 300, 400, 500, 600]\n"
     ]
    }
   ],
   "source": [
    "# --- Array dengan modul array ---\n",
    "\n",
    "import array as arr\n",
    "\n",
    "my_array = arr.array('i', [100, 200, 300, 400, 500])  # semua integer\n",
    "\n",
    "my_array.append(600)\n",
    "\n",
    "print(\"Array (module array):\", my_array.tolist())"
   ]
  },
  {
   "cell_type": "code",
   "execution_count": 56,
   "id": "782bb8df",
   "metadata": {},
   "outputs": [
    {
     "name": "stdout",
     "output_type": "stream",
     "text": [
      "NumPy Array: [10 20 30 40 50]\n",
      "Operasi aritmatika (+10): [110 120 130 140 150]\n"
     ]
    }
   ],
   "source": [
    "# --- Array dengan NumPy ---\n",
    "\n",
    "import numpy as np\n",
    "\n",
    "np_array = np.array([10, 20, 30, 40, 50])\n",
    "\n",
    "print(\"NumPy Array:\", np_array)\n",
    "\n",
    "print(\"Operasi aritmatika (+10):\", np_array + 100)"
   ]
  },
  {
   "cell_type": "code",
   "execution_count": 11,
   "id": "8a460435",
   "metadata": {},
   "outputs": [
    {
     "name": "stdout",
     "output_type": "stream",
     "text": [
      "[1 2 3 4]\n"
     ]
    }
   ],
   "source": [
    "# Pembuatan Array Numpy\n",
    "\n",
    "import numpy as np\n",
    "arr = np.array([1, 2, 3, 4])\n",
    "print(arr)  "
   ]
  },
  {
   "cell_type": "markdown",
   "id": "3929efe9",
   "metadata": {},
   "source": [
    "# <right><div style=\"font-family: Times New Roman; font-size: 30px; border-radius : 10px; background-color: #a4e5efff; color: #000000ff; padding: 12px; line-height: 0.7;\">4. MEMBUAT MATRIKS DENGAN NUMPY </div></center>\n"
   ]
  },
  {
   "cell_type": "code",
   "execution_count": null,
   "id": "ca5632cf",
   "metadata": {},
   "outputs": [
    {
     "name": "stdout",
     "output_type": "stream",
     "text": [
      "[[1 2 3]\n",
      " [4 5 6]\n",
      " [7 8 9]]\n"
     ]
    }
   ],
   "source": [
    "# Membuat Matriks 3x3\n",
    "\n",
    "matrik_np = np.array([[1,2,3],\n",
    "                      [4,5,6],\n",
    "                      [7,8,9]])\n",
    "print(matrik_np)\n"
   ]
  },
  {
   "cell_type": "code",
   "execution_count": 82,
   "id": "289a80f6",
   "metadata": {},
   "outputs": [
    {
     "name": "stdout",
     "output_type": "stream",
     "text": [
      "[[7 6 5 3 5 1 9 9 2]\n",
      " [1 6 1 3 0 9 5 3 3]\n",
      " [4 4 6 9 6 8 7 6 7]\n",
      " [1 7 3 4 8 3 2 4 2]\n",
      " [7 6 3 6 1 8 6 5 7]\n",
      " [6 0 8 8 7 5 8 5 1]\n",
      " [5 9 7 5 1 3 3 7 1]\n",
      " [9 1 3 9 2 2 2 5 4]\n",
      " [5 7 9 1 9 4 8 8 3]]\n"
     ]
    }
   ],
   "source": [
    "import numpy as np\n",
    "matrix = np.random.randint(0,10, size = (9, 9))\n",
    "print(matrix)"
   ]
  },
  {
   "cell_type": "code",
   "execution_count": 18,
   "id": "ab9986ab",
   "metadata": {},
   "outputs": [
    {
     "name": "stdout",
     "output_type": "stream",
     "text": [
      "[[0. 0. 0. 0.]\n",
      " [0. 0. 0. 0.]\n",
      " [0. 0. 0. 0.]]\n"
     ]
    }
   ],
   "source": [
    "# Membuat array berisi nol.\n",
    "\n",
    "zeros = np.zeros((3, 4))  # Array 3x4\n",
    "print(zeros)"
   ]
  },
  {
   "cell_type": "code",
   "execution_count": 19,
   "id": "192acf92",
   "metadata": {},
   "outputs": [
    {
     "name": "stdout",
     "output_type": "stream",
     "text": [
      "[[1. 1. 1.]\n",
      " [1. 1. 1.]]\n"
     ]
    }
   ],
   "source": [
    "# Membuat array berisi satu.\n",
    "\n",
    "ones = np.ones((2, 3))\n",
    "print(ones)"
   ]
  },
  {
   "cell_type": "code",
   "execution_count": 20,
   "id": "974a788b",
   "metadata": {},
   "outputs": [
    {
     "name": "stdout",
     "output_type": "stream",
     "text": [
      "[0 2 4 6 8]\n"
     ]
    }
   ],
   "source": [
    "# Membuat array dengan rentang nilai (seperti range() di Python, tapi lebih fleksibel).\n",
    "\n",
    "arr = np.arange(0, 10, 2)\n",
    "print(arr)  # [0 2 4 6 8]"
   ]
  },
  {
   "cell_type": "code",
   "execution_count": 21,
   "id": "022c6d46",
   "metadata": {},
   "outputs": [
    {
     "name": "stdout",
     "output_type": "stream",
     "text": [
      "[0.   0.25 0.5  0.75 1.  ]\n"
     ]
    }
   ],
   "source": [
    "# Membuat array dengan jumlah elemen tertentu yang dibagi rata dalam suatu interval.\n",
    "\n",
    "linspace = np.linspace(0, 1, 5)\n",
    "print(linspace)  # [0.   0.25 0.5  0.75 1.  ]\n",
    "\n"
   ]
  },
  {
   "cell_type": "code",
   "execution_count": 22,
   "id": "230b8c8c",
   "metadata": {},
   "outputs": [
    {
     "name": "stdout",
     "output_type": "stream",
     "text": [
      "[[0.46417435 0.89409039 0.13085447]\n",
      " [0.20214969 0.65114919 0.57899865]]\n"
     ]
    }
   ],
   "source": [
    "# Membuat array dengan nilai acak dari distribusi seragam (0 hingga 1).\n",
    "\n",
    "random_arr = np.random.rand(2, 3)\n",
    "print(random_arr)"
   ]
  },
  {
   "cell_type": "code",
   "execution_count": 23,
   "id": "d96fb137",
   "metadata": {},
   "outputs": [
    {
     "name": "stdout",
     "output_type": "stream",
     "text": [
      "(2, 3)\n"
     ]
    }
   ],
   "source": [
    "# Bentuk array\n",
    "\n",
    "arr = np.array([[1, 2, 3], [4, 5, 6]])\n",
    "print(arr.shape) "
   ]
  },
  {
   "cell_type": "code",
   "execution_count": 24,
   "id": "54f2d45b",
   "metadata": {},
   "outputs": [
    {
     "name": "stdout",
     "output_type": "stream",
     "text": [
      "3\n"
     ]
    }
   ],
   "source": [
    "# Jumlah dimensi (rank) dari array\n",
    "\n",
    "arr = np.array([[[1, 2], [3, 4]]])\n",
    "print(arr.ndim)  "
   ]
  },
  {
   "cell_type": "code",
   "execution_count": 25,
   "id": "aebca2c4",
   "metadata": {},
   "outputs": [
    {
     "name": "stdout",
     "output_type": "stream",
     "text": [
      "float32\n"
     ]
    }
   ],
   "source": [
    "# Tipe data elemen dalam array (int, float, bool, dll).\n",
    "\n",
    "arr = np.array([1, 2, 3], dtype=np.float32)\n",
    "print(arr.dtype)  "
   ]
  },
  {
   "cell_type": "code",
   "execution_count": 26,
   "id": "760267a5",
   "metadata": {},
   "outputs": [
    {
     "name": "stdout",
     "output_type": "stream",
     "text": [
      "12\n"
     ]
    }
   ],
   "source": [
    "# Jumlah total elemen dalam array.\n",
    "\n",
    "arr = np.zeros((3, 4))\n",
    "print(arr.size)"
   ]
  },
  {
   "cell_type": "code",
   "execution_count": 27,
   "id": "9a5c2b92",
   "metadata": {},
   "outputs": [
    {
     "name": "stdout",
     "output_type": "stream",
     "text": [
      "10\n",
      "40\n",
      "2\n"
     ]
    }
   ],
   "source": [
    "# Indexing & Slicing\n",
    "\n",
    "# Contoh 1D:\n",
    "\n",
    "arr = np.array([10, 20, 30, 40])\n",
    "\n",
    "print(arr[0])    \n",
    "print(arr[-1])   \n",
    "\n",
    "# Contoh 2D:\n",
    "\n",
    "arr = np.array([[1, 2], [3, 4]])\n",
    "print(arr[0, 1]) "
   ]
  },
  {
   "cell_type": "code",
   "execution_count": 28,
   "id": "d3e87d7f",
   "metadata": {},
   "outputs": [
    {
     "name": "stdout",
     "output_type": "stream",
     "text": [
      "[2 4 6]\n",
      "[[2 3]\n",
      " [5 6]]\n"
     ]
    }
   ],
   "source": [
    "# Slicing (Mengambil Bagian Array)\n",
    "\n",
    "# Contoh 1D:\n",
    "\n",
    "arr = np.arange(10)\n",
    "print(arr[2:7:2])  \n",
    "\n",
    "# Contoh 2D:\n",
    "\n",
    "arr = np.array([[1, 2, 3], [4, 5, 6], [7, 8, 9]])\n",
    "print(arr[0:2, 1:3]) "
   ]
  },
  {
   "cell_type": "markdown",
   "id": "2a060b81",
   "metadata": {},
   "source": [
    "# <right><div style=\"font-family: Times New Roman; font-size: 30px; border-radius : 10px; background-color: #a4e5efff; color: #000000ff; padding: 12px; line-height: 0.7;\">5. STATISTICAL FUNCTIONS </div></center>\n"
   ]
  },
  {
   "cell_type": "code",
   "execution_count": null,
   "id": "01e2fe3d",
   "metadata": {},
   "outputs": [
    {
     "name": "stdout",
     "output_type": "stream",
     "text": [
      "Nilai Minimum: 1\n",
      "Nilai Maksimum: 9\n",
      "Nilai Maksimum: 9\n"
     ]
    }
   ],
   "source": [
    "# Koding T13.1 numpy.amin() and numpy.amax()  \n",
    "\n",
    "arr = np.array([3, 1, 4, 1, 5, 9, 2, 6, 5])\n",
    "min_value = np.amin(arr)\n",
    "print(\"Nilai Minimum:\", min_value)\n",
    "\n",
    "max_value = np.amax(arr)\n",
    "print(\"Nilai Maksimum:\", max_value)"
   ]
  },
  {
   "cell_type": "code",
   "execution_count": 30,
   "id": "a9bfba59",
   "metadata": {},
   "outputs": [
    {
     "name": "stdout",
     "output_type": "stream",
     "text": [
      "\n",
      "Array: [3 1 4 1 5 9 2 6 5]\n",
      "Rentang: 8\n"
     ]
    }
   ],
   "source": [
    "# Koding T13.2 numpy.ptp()\n",
    "\n",
    "# Menghitung rentang (range) dari array\n",
    "range_value = np.ptp(arr)\n",
    "print(\"\\nArray:\", arr)\n",
    "print(\"Rentang:\", range_value)"
   ]
  },
  {
   "cell_type": "code",
   "execution_count": 32,
   "id": "d6b1a583",
   "metadata": {},
   "outputs": [
    {
     "name": "stdout",
     "output_type": "stream",
     "text": [
      "Q1 (Persentil ke-25): 2.0\n",
      "Median (Persentil ke-50): 4.0\n",
      "Q3 (Persentil ke-75): 5.0\n"
     ]
    }
   ],
   "source": [
    "# Koding T13.3 numpy.percentile()    \n",
    "\n",
    "# Membuat array NumPy\n",
    "arr = np.array([3, 1, 4, 1, 5, 9, 2, 6, 5])\n",
    "\n",
    "# Menghitung persentil ke-25 (Q1)\n",
    "q1 = np.percentile(arr, 25)\n",
    "\n",
    "# Menghitung persentil ke-50 (median)\n",
    "median = np.percentile(arr, 50)\n",
    "\n",
    "# Menghitung persentil ke-75 (Q3)\n",
    "q3 = np.percentile(arr, 75)\n",
    "\n",
    "# Menampilkan hasil\n",
    "print(\"Q1 (Persentil ke-25):\", q1)\n",
    "print(\"Median (Persentil ke-50):\", median)\n",
    "print(\"Q3 (Persentil ke-75):\", q3)"
   ]
  },
  {
   "cell_type": "code",
   "execution_count": null,
   "id": "627a8b60",
   "metadata": {},
   "outputs": [
    {
     "name": "stdout",
     "output_type": "stream",
     "text": [
      "Array: [3 1 4 1 5 9 2 6 5]\n",
      "Median: 4.0\n"
     ]
    }
   ],
   "source": [
    "# Koding T13.4 numpy.median()  \n",
    "\n",
    "\n",
    "# Membuat array NumPy\n",
    "arr = np.array([3, 1, 4, 1, 5, 9, 2, 6, 5])\n",
    "\n",
    "# Menggunakan numpy.median() untuk menghitung median\n",
    "median_value = np.median(arr)\n",
    "print(\"Array:\", arr)\n",
    "print(\"Median:\", median_value)"
   ]
  },
  {
   "cell_type": "code",
   "execution_count": 40,
   "id": "7481e9ae",
   "metadata": {},
   "outputs": [
    {
     "name": "stdout",
     "output_type": "stream",
     "text": [
      "Array: [3 1 4 1 5 9 2 6 5]\n",
      "Rata-rata (mean): 4.0\n"
     ]
    }
   ],
   "source": [
    "#Koding T13.5  numpy.mean()\n",
    "\n",
    "arr = np.array([3, 1, 4, 1, 5, 9, 2, 6, 5])\n",
    "print(\"Array:\", arr)\n",
    "print(\"Rata-rata (mean):\", np.mean(arr))"
   ]
  },
  {
   "cell_type": "code",
   "execution_count": 41,
   "id": "273bf524",
   "metadata": {},
   "outputs": [
    {
     "name": "stdout",
     "output_type": "stream",
     "text": [
      "4.0\n"
     ]
    }
   ],
   "source": [
    "#Koding T13.6 numpy.average()\n",
    "\n",
    "average = np.average(arr)\n",
    "print(average)"
   ]
  },
  {
   "cell_type": "code",
   "execution_count": 43,
   "id": "fc7f3375",
   "metadata": {},
   "outputs": [
    {
     "name": "stdout",
     "output_type": "stream",
     "text": [
      "Standar Deviasi: 2.449489742783178\n"
     ]
    }
   ],
   "source": [
    "#Koding T13.7 Standard Deviation\n",
    "\n",
    "arr = np.array([3, 1, 4, 1, 5, 9, 2, 6, 5])\n",
    "# Menghitung standar deviasi dari array arr\n",
    "std_deviation = np.std(arr)\n",
    "print(\"Standar Deviasi:\", std_deviation)"
   ]
  },
  {
   "cell_type": "code",
   "execution_count": 44,
   "id": "8b9ae772",
   "metadata": {},
   "outputs": [
    {
     "name": "stdout",
     "output_type": "stream",
     "text": [
      "Array: [3 1 4 1 5 9 2 6 5]\n",
      "Varians: 6.0\n"
     ]
    }
   ],
   "source": [
    "# Koding T13.8 variance     \n",
    "\n",
    "# Membuat array NumPy\n",
    "arr = np.array([3, 1, 4, 1, 5, 9, 2, 6, 5])\n",
    "\n",
    "# Menghitung varians dari array arr\n",
    "variance = np.var(arr)\n",
    "print(\"Array:\", arr)\n",
    "print(\"Varians:\", variance)"
   ]
  }
 ],
 "metadata": {
  "kernelspec": {
   "display_name": "envsiff",
   "language": "python",
   "name": "python3"
  },
  "language_info": {
   "codemirror_mode": {
    "name": "ipython",
    "version": 3
   },
   "file_extension": ".py",
   "mimetype": "text/x-python",
   "name": "python",
   "nbconvert_exporter": "python",
   "pygments_lexer": "ipython3",
   "version": "3.9.9"
  }
 },
 "nbformat": 4,
 "nbformat_minor": 5
}
